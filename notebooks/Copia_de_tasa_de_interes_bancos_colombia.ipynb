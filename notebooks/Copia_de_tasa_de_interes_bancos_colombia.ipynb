{
  "cells": [
    {
      "cell_type": "markdown",
      "source": [
        "#Base de datos de Empresas de Norte de Santander, Colombia\n",
        "##Datos extraidos de la pagina de datos abiertos de colombia https://www.datos.gov.co/\n",
        "Esta Base de Datos contiene la información de los empresarios registrado en la Cámara de Comercio de Cúcuta, la cual es captura al momento de la inscripción o renovación del registro mercantil por parte de los empresarios.(https://www.datos.gov.co/Comercio-Industria-y-Turismo/BASE-DE-DATOS-EMPRESAS-DE-NORTE-DE-SANTANDER/w98a-ssvz/about_data)"
      ],
      "metadata": {
        "id": "zIGVZA9ZwuHh"
      }
    },
    {
      "cell_type": "code",
      "execution_count": null,
      "metadata": {
        "id": "lHYJI1jUwIy_"
      },
      "outputs": [],
      "source": [
        "import pandas as pd\n",
        "url='Tasas_de_inter_s_activas_por_tipo_de_cr_dito_20240115.csv'\n",
        "df=pd.read_csv(url)"
      ]
    },
    {
      "cell_type": "code",
      "execution_count": null,
      "metadata": {
        "id": "aqUQ4gHtwIzK",
        "outputId": "b0236885-2339-47d9-8cb1-91a79162024c"
      },
      "outputs": [
        {
          "data": {
            "text/html": [
              "<div>\n",
              "<style scoped>\n",
              "    .dataframe tbody tr th:only-of-type {\n",
              "        vertical-align: middle;\n",
              "    }\n",
              "\n",
              "    .dataframe tbody tr th {\n",
              "        vertical-align: top;\n",
              "    }\n",
              "\n",
              "    .dataframe thead th {\n",
              "        text-align: right;\n",
              "    }\n",
              "</style>\n",
              "<table border=\"1\" class=\"dataframe\">\n",
              "  <thead>\n",
              "    <tr style=\"text-align: right;\">\n",
              "      <th></th>\n",
              "      <th>Tipo_Entidad</th>\n",
              "      <th>Nombre_Tipo_Entidad</th>\n",
              "      <th>Codigo_Entidad</th>\n",
              "      <th>Nombre_Entidad</th>\n",
              "      <th>Fecha_Corte</th>\n",
              "      <th>Tipo_de_persona</th>\n",
              "      <th>Sexo</th>\n",
              "      <th>Tamaño_de_empresa</th>\n",
              "      <th>Tipo_de_crédito</th>\n",
              "      <th>Tipo_de_garantía</th>\n",
              "      <th>...</th>\n",
              "      <th>margen_adicional</th>\n",
              "      <th>Montos_desembolsados</th>\n",
              "      <th>Numero_de_creditos_desembolsados</th>\n",
              "      <th>Grupo_Etnico</th>\n",
              "      <th>Antiguedad_de_la_empresa</th>\n",
              "      <th>Tipo_de_Tasa</th>\n",
              "      <th>Rango_monto_desembolsado</th>\n",
              "      <th>Clase_deudor</th>\n",
              "      <th>Codigo_CIIU</th>\n",
              "      <th>Codigo_Municipio</th>\n",
              "    </tr>\n",
              "  </thead>\n",
              "  <tbody>\n",
              "    <tr>\n",
              "      <th>0</th>\n",
              "      <td>1</td>\n",
              "      <td>BC-ESTABLECIMIENTO BANCARIO</td>\n",
              "      <td>1</td>\n",
              "      <td>Banco de Bogotá</td>\n",
              "      <td>20/10/2023</td>\n",
              "      <td>Natural</td>\n",
              "      <td>Masculino</td>\n",
              "      <td>No aplica</td>\n",
              "      <td>Consumo</td>\n",
              "      <td>Sin garantia</td>\n",
              "      <td>...</td>\n",
              "      <td>0.0</td>\n",
              "      <td>2197830.00</td>\n",
              "      <td>11</td>\n",
              "      <td>Sin información (1)</td>\n",
              "      <td>No aplica(1)</td>\n",
              "      <td>FS</td>\n",
              "      <td>Hasta 1 SMLMV</td>\n",
              "      <td>Deudor de la entidad</td>\n",
              "      <td>10.0</td>\n",
              "      <td>5172.0</td>\n",
              "    </tr>\n",
              "    <tr>\n",
              "      <th>1</th>\n",
              "      <td>1</td>\n",
              "      <td>BC-ESTABLECIMIENTO BANCARIO</td>\n",
              "      <td>52</td>\n",
              "      <td>Bancamía S.A.</td>\n",
              "      <td>20/10/2023</td>\n",
              "      <td>Natural</td>\n",
              "      <td>Masculino</td>\n",
              "      <td>Microempresa</td>\n",
              "      <td>Crédito productivo</td>\n",
              "      <td>Garantía  fondo nacional de garantías (FNG) o ...</td>\n",
              "      <td>...</td>\n",
              "      <td>0.0</td>\n",
              "      <td>2800000.00</td>\n",
              "      <td>1</td>\n",
              "      <td>Sin información (1)</td>\n",
              "      <td>más de 10 años</td>\n",
              "      <td>FS</td>\n",
              "      <td>Mayor a 2 SMLMV y menor o igual a 3 SMLMV</td>\n",
              "      <td>Deudor de la entidad</td>\n",
              "      <td>143.0</td>\n",
              "      <td>47268.0</td>\n",
              "    </tr>\n",
              "    <tr>\n",
              "      <th>2</th>\n",
              "      <td>1</td>\n",
              "      <td>BC-ESTABLECIMIENTO BANCARIO</td>\n",
              "      <td>43</td>\n",
              "      <td>Banagrario</td>\n",
              "      <td>10/11/2023</td>\n",
              "      <td>Natural</td>\n",
              "      <td>Masculino</td>\n",
              "      <td>No aplica</td>\n",
              "      <td>Consumo</td>\n",
              "      <td>Sin garantia</td>\n",
              "      <td>...</td>\n",
              "      <td>0.0</td>\n",
              "      <td>7969200.00</td>\n",
              "      <td>4</td>\n",
              "      <td>Sin información (1)</td>\n",
              "      <td>No aplica(1)</td>\n",
              "      <td>FS</td>\n",
              "      <td>Mayor a 1 SMLMV menor o igual a 3 SMLMV</td>\n",
              "      <td>Deudor de la entidad</td>\n",
              "      <td>150.0</td>\n",
              "      <td>41676.0</td>\n",
              "    </tr>\n",
              "    <tr>\n",
              "      <th>3</th>\n",
              "      <td>1</td>\n",
              "      <td>BC-ESTABLECIMIENTO BANCARIO</td>\n",
              "      <td>7</td>\n",
              "      <td>Bancolombia</td>\n",
              "      <td>01/12/2023</td>\n",
              "      <td>Jurídica</td>\n",
              "      <td>No aplica</td>\n",
              "      <td>Mediana empresa</td>\n",
              "      <td>Comercial ordinario</td>\n",
              "      <td>Garantia idónea o no idónea</td>\n",
              "      <td>...</td>\n",
              "      <td>0.0</td>\n",
              "      <td>3538866.93</td>\n",
              "      <td>5</td>\n",
              "      <td>No aplica</td>\n",
              "      <td>0 a 5 años</td>\n",
              "      <td>FS</td>\n",
              "      <td>Mayor a 1 SMLMV menor o igual a 3 SMLMV</td>\n",
              "      <td>Deudor de la entidad</td>\n",
              "      <td>8544.0</td>\n",
              "      <td>11001.0</td>\n",
              "    </tr>\n",
              "    <tr>\n",
              "      <th>4</th>\n",
              "      <td>1</td>\n",
              "      <td>BC-ESTABLECIMIENTO BANCARIO</td>\n",
              "      <td>1</td>\n",
              "      <td>Banco de Bogotá</td>\n",
              "      <td>24/11/2023</td>\n",
              "      <td>Natural</td>\n",
              "      <td>Femenino</td>\n",
              "      <td>No aplica</td>\n",
              "      <td>Consumo</td>\n",
              "      <td>Sin garantia</td>\n",
              "      <td>...</td>\n",
              "      <td>0.0</td>\n",
              "      <td>585000.00</td>\n",
              "      <td>1</td>\n",
              "      <td>Sin información (1)</td>\n",
              "      <td>No aplica(1)</td>\n",
              "      <td>FS</td>\n",
              "      <td>Hasta 1 SMLMV</td>\n",
              "      <td>Deudor nuevo en la entidad</td>\n",
              "      <td>4711.0</td>\n",
              "      <td>70823.0</td>\n",
              "    </tr>\n",
              "  </tbody>\n",
              "</table>\n",
              "<p>5 rows × 23 columns</p>\n",
              "</div>"
            ],
            "text/plain": [
              "   Tipo_Entidad          Nombre_Tipo_Entidad  Codigo_Entidad   Nombre_Entidad  \\\n",
              "0             1  BC-ESTABLECIMIENTO BANCARIO               1  Banco de Bogotá   \n",
              "1             1  BC-ESTABLECIMIENTO BANCARIO              52    Bancamía S.A.   \n",
              "2             1  BC-ESTABLECIMIENTO BANCARIO              43       Banagrario   \n",
              "3             1  BC-ESTABLECIMIENTO BANCARIO               7      Bancolombia   \n",
              "4             1  BC-ESTABLECIMIENTO BANCARIO               1  Banco de Bogotá   \n",
              "\n",
              "  Fecha_Corte Tipo_de_persona       Sexo Tamaño_de_empresa  \\\n",
              "0  20/10/2023         Natural  Masculino         No aplica   \n",
              "1  20/10/2023         Natural  Masculino      Microempresa   \n",
              "2  10/11/2023         Natural  Masculino         No aplica   \n",
              "3  01/12/2023        Jurídica  No aplica   Mediana empresa   \n",
              "4  24/11/2023         Natural   Femenino         No aplica   \n",
              "\n",
              "       Tipo_de_crédito                                   Tipo_de_garantía  \\\n",
              "0              Consumo                                       Sin garantia   \n",
              "1   Crédito productivo  Garantía  fondo nacional de garantías (FNG) o ...   \n",
              "2              Consumo                                       Sin garantia   \n",
              "3  Comercial ordinario                        Garantia idónea o no idónea   \n",
              "4              Consumo                                       Sin garantia   \n",
              "\n",
              "   ... margen_adicional Montos_desembolsados  \\\n",
              "0  ...              0.0           2197830.00   \n",
              "1  ...              0.0           2800000.00   \n",
              "2  ...              0.0           7969200.00   \n",
              "3  ...              0.0           3538866.93   \n",
              "4  ...              0.0            585000.00   \n",
              "\n",
              "   Numero_de_creditos_desembolsados         Grupo_Etnico  \\\n",
              "0                                11  Sin información (1)   \n",
              "1                                 1  Sin información (1)   \n",
              "2                                 4  Sin información (1)   \n",
              "3                                 5            No aplica   \n",
              "4                                 1  Sin información (1)   \n",
              "\n",
              "   Antiguedad_de_la_empresa  Tipo_de_Tasa  \\\n",
              "0              No aplica(1)            FS   \n",
              "1            más de 10 años            FS   \n",
              "2              No aplica(1)            FS   \n",
              "3                0 a 5 años            FS   \n",
              "4              No aplica(1)            FS   \n",
              "\n",
              "                    Rango_monto_desembolsado                Clase_deudor  \\\n",
              "0                              Hasta 1 SMLMV        Deudor de la entidad   \n",
              "1  Mayor a 2 SMLMV y menor o igual a 3 SMLMV        Deudor de la entidad   \n",
              "2    Mayor a 1 SMLMV menor o igual a 3 SMLMV        Deudor de la entidad   \n",
              "3    Mayor a 1 SMLMV menor o igual a 3 SMLMV        Deudor de la entidad   \n",
              "4                              Hasta 1 SMLMV  Deudor nuevo en la entidad   \n",
              "\n",
              "  Codigo_CIIU Codigo_Municipio  \n",
              "0        10.0           5172.0  \n",
              "1       143.0          47268.0  \n",
              "2       150.0          41676.0  \n",
              "3      8544.0          11001.0  \n",
              "4      4711.0          70823.0  \n",
              "\n",
              "[5 rows x 23 columns]"
            ]
          },
          "execution_count": 3,
          "metadata": {},
          "output_type": "execute_result"
        }
      ],
      "source": [
        "df.head()"
      ]
    },
    {
      "cell_type": "code",
      "execution_count": null,
      "metadata": {
        "id": "M_paWFoQwIzT",
        "outputId": "eec73eb3-bd2a-4ab8-bf2e-6ac8d1f484e8"
      },
      "outputs": [
        {
          "data": {
            "text/plain": [
              "Index(['Tipo_Entidad', 'Nombre_Tipo_Entidad', 'Codigo_Entidad',\n",
              "       'Nombre_Entidad', 'Fecha_Corte', 'Tipo_de_persona', 'Sexo',\n",
              "       'Tamaño_de_empresa', 'Tipo_de_crédito', 'Tipo_de_garantía',\n",
              "       'Producto de crédito', 'Plazo de crédito',\n",
              "       'Tasa_efectiva_promedio_ponderada', 'margen_adicional',\n",
              "       'Montos_desembolsados', 'Numero_de_creditos_desembolsados',\n",
              "       'Grupo_Etnico', 'Antiguedad_de_la_empresa', 'Tipo_de_Tasa',\n",
              "       'Rango_monto_desembolsado', 'Clase_deudor', 'Codigo_CIIU',\n",
              "       'Codigo_Municipio'],\n",
              "      dtype='object')"
            ]
          },
          "execution_count": 4,
          "metadata": {},
          "output_type": "execute_result"
        }
      ],
      "source": [
        "df.columns"
      ]
    },
    {
      "cell_type": "code",
      "execution_count": null,
      "metadata": {
        "id": "F0c49O_UwIzV",
        "outputId": "b2ac0169-8393-4a48-8c8b-7059e41634f5"
      },
      "outputs": [
        {
          "name": "stdout",
          "output_type": "stream",
          "text": [
            "<class 'pandas.core.frame.DataFrame'>\n",
            "RangeIndex: 8443774 entries, 0 to 8443773\n",
            "Data columns (total 23 columns):\n",
            " #   Column                            Dtype  \n",
            "---  ------                            -----  \n",
            " 0   Tipo_Entidad                      int64  \n",
            " 1   Nombre_Tipo_Entidad               object \n",
            " 2   Codigo_Entidad                    int64  \n",
            " 3   Nombre_Entidad                    object \n",
            " 4   Fecha_Corte                       object \n",
            " 5   Tipo_de_persona                   object \n",
            " 6   Sexo                              object \n",
            " 7   Tamaño_de_empresa                 object \n",
            " 8   Tipo_de_crédito                   object \n",
            " 9   Tipo_de_garantía                  object \n",
            " 10  Producto de crédito               object \n",
            " 11  Plazo de crédito                  object \n",
            " 12  Tasa_efectiva_promedio_ponderada  float64\n",
            " 13  margen_adicional                  float64\n",
            " 14  Montos_desembolsados              float64\n",
            " 15  Numero_de_creditos_desembolsados  int64  \n",
            " 16  Grupo_Etnico                      object \n",
            " 17  Antiguedad_de_la_empresa          object \n",
            " 18  Tipo_de_Tasa                      object \n",
            " 19  Rango_monto_desembolsado          object \n",
            " 20  Clase_deudor                      object \n",
            " 21  Codigo_CIIU                       float64\n",
            " 22  Codigo_Municipio                  float64\n",
            "dtypes: float64(5), int64(3), object(15)\n",
            "memory usage: 1.4+ GB\n"
          ]
        }
      ],
      "source": [
        "df.info()"
      ]
    },
    {
      "cell_type": "code",
      "execution_count": null,
      "metadata": {
        "id": "tyAyL7LTwIzY",
        "outputId": "123e5b64-b74c-405b-a8d4-d68b4ed6ebfc"
      },
      "outputs": [
        {
          "data": {
            "text/plain": [
              "Tipo_Entidad                             0\n",
              "Nombre_Tipo_Entidad                      0\n",
              "Codigo_Entidad                           0\n",
              "Nombre_Entidad                           0\n",
              "Fecha_Corte                              0\n",
              "Tipo_de_persona                          2\n",
              "Sexo                                     2\n",
              "Tamaño_de_empresa                        2\n",
              "Tipo_de_crédito                          2\n",
              "Tipo_de_garantía                         2\n",
              "Producto de crédito                      4\n",
              "Plazo de crédito                         2\n",
              "Tasa_efectiva_promedio_ponderada         0\n",
              "margen_adicional                         0\n",
              "Montos_desembolsados                     0\n",
              "Numero_de_creditos_desembolsados         0\n",
              "Grupo_Etnico                        251462\n",
              "Antiguedad_de_la_empresa            251462\n",
              "Tipo_de_Tasa                        251462\n",
              "Rango_monto_desembolsado            251462\n",
              "Clase_deudor                        251462\n",
              "Codigo_CIIU                         251462\n",
              "Codigo_Municipio                    251462\n",
              "dtype: int64"
            ]
          },
          "execution_count": 5,
          "metadata": {},
          "output_type": "execute_result"
        }
      ],
      "source": [
        "df.isnull().sum()"
      ]
    },
    {
      "cell_type": "code",
      "execution_count": null,
      "metadata": {
        "id": "zNUEo-dvwIzZ",
        "outputId": "58ca48ac-1985-4f0a-8d5e-3d88f26fc5f5"
      },
      "outputs": [
        {
          "data": {
            "text/plain": [
              "(8192306, 23)"
            ]
          },
          "execution_count": 12,
          "metadata": {},
          "output_type": "execute_result"
        }
      ],
      "source": [
        "df.shape"
      ]
    },
    {
      "cell_type": "markdown",
      "metadata": {
        "id": "oX1MzvbLwIza"
      },
      "source": [
        "Procedemos a eliminar las filas con valores nulos, aunque con bastantes comparado con la cantidad total, son suficientes para el analisis"
      ]
    },
    {
      "cell_type": "code",
      "execution_count": null,
      "metadata": {
        "id": "l7bBco60wIzz"
      },
      "outputs": [],
      "source": [
        "df = df.dropna()"
      ]
    },
    {
      "cell_type": "markdown",
      "metadata": {
        "id": "iAJrYIdzwIz0"
      },
      "source": [
        "comprobamos que se eliminaron los valores nulos"
      ]
    },
    {
      "cell_type": "code",
      "execution_count": null,
      "metadata": {
        "id": "Ks1nWz7kwIz2",
        "outputId": "5be01f41-aa24-4c2d-8335-ae285159f0f9"
      },
      "outputs": [
        {
          "data": {
            "text/plain": [
              "Tipo_Entidad                        0\n",
              "Nombre_Tipo_Entidad                 0\n",
              "Codigo_Entidad                      0\n",
              "Nombre_Entidad                      0\n",
              "Fecha_Corte                         0\n",
              "Tipo_de_persona                     0\n",
              "Sexo                                0\n",
              "Tamaño_de_empresa                   0\n",
              "Tipo_de_crédito                     0\n",
              "Tipo_de_garantía                    0\n",
              "Producto de crédito                 0\n",
              "Plazo de crédito                    0\n",
              "Tasa_efectiva_promedio_ponderada    0\n",
              "margen_adicional                    0\n",
              "Montos_desembolsados                0\n",
              "Numero_de_creditos_desembolsados    0\n",
              "Grupo_Etnico                        0\n",
              "Antiguedad_de_la_empresa            0\n",
              "Tipo_de_Tasa                        0\n",
              "Rango_monto_desembolsado            0\n",
              "Clase_deudor                        0\n",
              "Codigo_CIIU                         0\n",
              "Codigo_Municipio                    0\n",
              "dtype: int64"
            ]
          },
          "execution_count": 8,
          "metadata": {},
          "output_type": "execute_result"
        }
      ],
      "source": [
        "df.isnull().sum()"
      ]
    },
    {
      "cell_type": "markdown",
      "metadata": {
        "id": "lFOLekFYwIz5"
      },
      "source": [
        "ahora verificaremos si existen valores duplicados"
      ]
    },
    {
      "cell_type": "code",
      "execution_count": null,
      "metadata": {
        "id": "GZitNEciwIz8",
        "outputId": "93f4e699-ab1f-49e4-bc7a-8a0ce2c0875b"
      },
      "outputs": [
        {
          "data": {
            "text/plain": [
              "4"
            ]
          },
          "execution_count": 9,
          "metadata": {},
          "output_type": "execute_result"
        }
      ],
      "source": [
        "df.duplicated().sum()"
      ]
    },
    {
      "cell_type": "markdown",
      "metadata": {
        "id": "XI0qjIHgwI0A"
      },
      "source": [
        "procedemos a borrar los duplicados"
      ]
    },
    {
      "cell_type": "code",
      "execution_count": null,
      "metadata": {
        "id": "YLdB5OBqwI0B"
      },
      "outputs": [],
      "source": [
        "df=df.drop_duplicates()"
      ]
    },
    {
      "cell_type": "code",
      "execution_count": null,
      "metadata": {
        "id": "2jNtHLa1wI0D",
        "outputId": "6a5e1eb8-7ce7-4fbc-8ea7-48f7a34e9e5e"
      },
      "outputs": [
        {
          "data": {
            "text/plain": [
              "(8192306, 23)"
            ]
          },
          "execution_count": 7,
          "metadata": {},
          "output_type": "execute_result"
        }
      ],
      "source": [
        "df.shape"
      ]
    },
    {
      "cell_type": "markdown",
      "metadata": {
        "id": "jfQ5vfrtwI0E"
      },
      "source": [
        "antes de hacer la limpieza (8443774, 23), despues de borrar los valores nulos y duplicados (8192306, 23) borrando 251468 datos"
      ]
    },
    {
      "cell_type": "code",
      "execution_count": null,
      "metadata": {
        "id": "62aLgjgXwI0F",
        "outputId": "e874550d-ec9e-4e93-b7c1-8fd8691d2c88"
      },
      "outputs": [
        {
          "name": "stdout",
          "output_type": "stream",
          "text": [
            "<class 'pandas.core.frame.DataFrame'>\n",
            "Index: 8192306 entries, 0 to 8443773\n",
            "Data columns (total 23 columns):\n",
            " #   Column                            Dtype  \n",
            "---  ------                            -----  \n",
            " 0   Tipo_Entidad                      int64  \n",
            " 1   Nombre_Tipo_Entidad               object \n",
            " 2   Codigo_Entidad                    int64  \n",
            " 3   Nombre_Entidad                    object \n",
            " 4   Fecha_Corte                       object \n",
            " 5   Tipo_de_persona                   object \n",
            " 6   Sexo                              object \n",
            " 7   Tamaño_de_empresa                 object \n",
            " 8   Tipo_de_crédito                   object \n",
            " 9   Tipo_de_garantía                  object \n",
            " 10  Producto de crédito               object \n",
            " 11  Plazo de crédito                  object \n",
            " 12  Tasa_efectiva_promedio_ponderada  float64\n",
            " 13  margen_adicional                  float64\n",
            " 14  Montos_desembolsados              float64\n",
            " 15  Numero_de_creditos_desembolsados  int64  \n",
            " 16  Grupo_Etnico                      object \n",
            " 17  Antiguedad_de_la_empresa          object \n",
            " 18  Tipo_de_Tasa                      object \n",
            " 19  Rango_monto_desembolsado          object \n",
            " 20  Clase_deudor                      object \n",
            " 21  Codigo_CIIU                       float64\n",
            " 22  Codigo_Municipio                  float64\n",
            "dtypes: float64(5), int64(3), object(15)\n",
            "memory usage: 1.5+ GB\n"
          ]
        }
      ],
      "source": [
        "df.info()"
      ]
    },
    {
      "cell_type": "code",
      "execution_count": null,
      "metadata": {
        "id": "dEOLxAlEwI0G",
        "outputId": "0107258e-1f09-4969-ccba-6ce93fa3f059"
      },
      "outputs": [
        {
          "data": {
            "text/html": [
              "<div>\n",
              "<style scoped>\n",
              "    .dataframe tbody tr th:only-of-type {\n",
              "        vertical-align: middle;\n",
              "    }\n",
              "\n",
              "    .dataframe tbody tr th {\n",
              "        vertical-align: top;\n",
              "    }\n",
              "\n",
              "    .dataframe thead th {\n",
              "        text-align: right;\n",
              "    }\n",
              "</style>\n",
              "<table border=\"1\" class=\"dataframe\">\n",
              "  <thead>\n",
              "    <tr style=\"text-align: right;\">\n",
              "      <th></th>\n",
              "      <th>Tipo_Entidad</th>\n",
              "      <th>Codigo_Entidad</th>\n",
              "      <th>Tasa_efectiva_promedio_ponderada</th>\n",
              "      <th>margen_adicional</th>\n",
              "      <th>Montos_desembolsados</th>\n",
              "      <th>Numero_de_creditos_desembolsados</th>\n",
              "      <th>Codigo_CIIU</th>\n",
              "      <th>Codigo_Municipio</th>\n",
              "    </tr>\n",
              "  </thead>\n",
              "  <tbody>\n",
              "    <tr>\n",
              "      <th>count</th>\n",
              "      <td>8.192306e+06</td>\n",
              "      <td>8.192306e+06</td>\n",
              "      <td>8.192306e+06</td>\n",
              "      <td>8.192306e+06</td>\n",
              "      <td>8.192306e+06</td>\n",
              "      <td>8.192306e+06</td>\n",
              "      <td>8.192306e+06</td>\n",
              "      <td>8.192306e+06</td>\n",
              "    </tr>\n",
              "    <tr>\n",
              "      <th>mean</th>\n",
              "      <td>1.595123e+00</td>\n",
              "      <td>2.472462e+01</td>\n",
              "      <td>2.596350e+01</td>\n",
              "      <td>1.963606e-01</td>\n",
              "      <td>2.152101e+07</td>\n",
              "      <td>1.850998e+01</td>\n",
              "      <td>3.893032e+03</td>\n",
              "      <td>3.402746e+04</td>\n",
              "    </tr>\n",
              "    <tr>\n",
              "      <th>std</th>\n",
              "      <td>3.065859e+00</td>\n",
              "      <td>2.023323e+01</td>\n",
              "      <td>1.704147e+01</td>\n",
              "      <td>1.611435e+00</td>\n",
              "      <td>7.402187e+08</td>\n",
              "      <td>8.207006e+02</td>\n",
              "      <td>3.288060e+03</td>\n",
              "      <td>2.742812e+04</td>\n",
              "    </tr>\n",
              "    <tr>\n",
              "      <th>min</th>\n",
              "      <td>1.000000e+00</td>\n",
              "      <td>1.000000e+00</td>\n",
              "      <td>0.000000e+00</td>\n",
              "      <td>-1.200000e+01</td>\n",
              "      <td>1.000000e-02</td>\n",
              "      <td>1.000000e+00</td>\n",
              "      <td>1.000000e+01</td>\n",
              "      <td>5.001000e+03</td>\n",
              "    </tr>\n",
              "    <tr>\n",
              "      <th>25%</th>\n",
              "      <td>1.000000e+00</td>\n",
              "      <td>7.000000e+00</td>\n",
              "      <td>0.000000e+00</td>\n",
              "      <td>0.000000e+00</td>\n",
              "      <td>2.131000e+05</td>\n",
              "      <td>1.000000e+00</td>\n",
              "      <td>9.000000e+01</td>\n",
              "      <td>1.100100e+04</td>\n",
              "    </tr>\n",
              "    <tr>\n",
              "      <th>50%</th>\n",
              "      <td>1.000000e+00</td>\n",
              "      <td>2.600000e+01</td>\n",
              "      <td>3.703000e+01</td>\n",
              "      <td>0.000000e+00</td>\n",
              "      <td>1.000000e+06</td>\n",
              "      <td>1.000000e+00</td>\n",
              "      <td>4.651000e+03</td>\n",
              "      <td>2.300100e+04</td>\n",
              "    </tr>\n",
              "    <tr>\n",
              "      <th>75%</th>\n",
              "      <td>1.000000e+00</td>\n",
              "      <td>3.900000e+01</td>\n",
              "      <td>3.825000e+01</td>\n",
              "      <td>0.000000e+00</td>\n",
              "      <td>4.075066e+06</td>\n",
              "      <td>4.000000e+00</td>\n",
              "      <td>6.630000e+03</td>\n",
              "      <td>6.600100e+04</td>\n",
              "    </tr>\n",
              "    <tr>\n",
              "      <th>max</th>\n",
              "      <td>3.200000e+01</td>\n",
              "      <td>1.250000e+02</td>\n",
              "      <td>7.860000e+01</td>\n",
              "      <td>3.398000e+01</td>\n",
              "      <td>6.949955e+11</td>\n",
              "      <td>3.613090e+05</td>\n",
              "      <td>9.900000e+03</td>\n",
              "      <td>9.977300e+04</td>\n",
              "    </tr>\n",
              "  </tbody>\n",
              "</table>\n",
              "</div>"
            ],
            "text/plain": [
              "       Tipo_Entidad  Codigo_Entidad  Tasa_efectiva_promedio_ponderada  \\\n",
              "count  8.192306e+06    8.192306e+06                      8.192306e+06   \n",
              "mean   1.595123e+00    2.472462e+01                      2.596350e+01   \n",
              "std    3.065859e+00    2.023323e+01                      1.704147e+01   \n",
              "min    1.000000e+00    1.000000e+00                      0.000000e+00   \n",
              "25%    1.000000e+00    7.000000e+00                      0.000000e+00   \n",
              "50%    1.000000e+00    2.600000e+01                      3.703000e+01   \n",
              "75%    1.000000e+00    3.900000e+01                      3.825000e+01   \n",
              "max    3.200000e+01    1.250000e+02                      7.860000e+01   \n",
              "\n",
              "       margen_adicional  Montos_desembolsados  \\\n",
              "count      8.192306e+06          8.192306e+06   \n",
              "mean       1.963606e-01          2.152101e+07   \n",
              "std        1.611435e+00          7.402187e+08   \n",
              "min       -1.200000e+01          1.000000e-02   \n",
              "25%        0.000000e+00          2.131000e+05   \n",
              "50%        0.000000e+00          1.000000e+06   \n",
              "75%        0.000000e+00          4.075066e+06   \n",
              "max        3.398000e+01          6.949955e+11   \n",
              "\n",
              "       Numero_de_creditos_desembolsados   Codigo_CIIU  Codigo_Municipio  \n",
              "count                      8.192306e+06  8.192306e+06      8.192306e+06  \n",
              "mean                       1.850998e+01  3.893032e+03      3.402746e+04  \n",
              "std                        8.207006e+02  3.288060e+03      2.742812e+04  \n",
              "min                        1.000000e+00  1.000000e+01      5.001000e+03  \n",
              "25%                        1.000000e+00  9.000000e+01      1.100100e+04  \n",
              "50%                        1.000000e+00  4.651000e+03      2.300100e+04  \n",
              "75%                        4.000000e+00  6.630000e+03      6.600100e+04  \n",
              "max                        3.613090e+05  9.900000e+03      9.977300e+04  "
            ]
          },
          "execution_count": 16,
          "metadata": {},
          "output_type": "execute_result"
        }
      ],
      "source": [
        "df.describe()"
      ]
    },
    {
      "cell_type": "markdown",
      "metadata": {
        "id": "CSOQyFGLwI0H"
      },
      "source": [
        "vemos la frecuencia de las variables, para ver que no hayan datos fuera de lo real"
      ]
    },
    {
      "cell_type": "code",
      "execution_count": null,
      "metadata": {
        "id": "XXRLNhngwI0I",
        "outputId": "efa88694-5888-443b-da77-c0d370c452c6"
      },
      "outputs": [
        {
          "data": {
            "text/plain": [
              "Sexo\n",
              "Masculino     3883405\n",
              "Femenino      3315150\n",
              "No aplica      993750\n",
              "No binario          1\n",
              "Name: count, dtype: int64"
            ]
          },
          "execution_count": 9,
          "metadata": {},
          "output_type": "execute_result"
        }
      ],
      "source": [
        "frecuencia_sexo = df['Sexo'].value_counts()\n",
        "frecuencia_sexo"
      ]
    },
    {
      "cell_type": "code",
      "execution_count": null,
      "metadata": {
        "id": "E_hZCQIzwI0K",
        "outputId": "ebc17d6d-6311-4d58-d6ff-f28e7ec80247"
      },
      "outputs": [
        {
          "data": {
            "text/plain": [
              "Nombre_Entidad\n",
              "Bancolombia                                              2089653\n",
              "Banco Davivienda                                         1430166\n",
              "Banco de Bogotá                                           983172\n",
              "Tuya                                                      780641\n",
              "BBVA Colombia                                             429598\n",
              "Scotiabank Colpatria S.A.                                 340233\n",
              "Banco Caja Social S.A.                                    320026\n",
              "Banco Falabella S.A.                                      285693\n",
              "Banagrario                                                249986\n",
              "AV Villas                                                 184623\n",
              "Banco Serfinanza S.A.                                     132460\n",
              "Itaú                                                      123673\n",
              "Banco Mundo Mujer S.A.                                    111845\n",
              "Banco de Occidente                                         89696\n",
              "Banco Popular                                              81983\n",
              "Bancoomeva                                                 80805\n",
              "Finandina                                                  76785\n",
              "Bancamía S.A.                                              50337\n",
              "Banco W S.A.                                               47561\n",
              "Confiar                                                    45069\n",
              "Banco GNB Sudameris                                        34991\n",
              "Mibanco S.A.                                               34990\n",
              "Banco Santander                                            27214\n",
              "Financiera Juriscoop C.F.                                  20708\n",
              "Coopcentral                                                18854\n",
              "Banco Pichincha S.A.                                       17595\n",
              "Banco Unión                                                16836\n",
              "Crezcamos                                                  13229\n",
              "Citibank                                                   10661\n",
              "Cotrafa                                                    10452\n",
              "Bancien                                                     9588\n",
              "JFK Cooperativa Financiera                                  8505\n",
              "Cooperativa Financiera de Antioquia                         7266\n",
              "Coltefinanciera                                             5093\n",
              "IRIS C.F.                                                   4161\n",
              "Lulo Bank                                                   3506\n",
              "GM Financial Colombia S.A. Compañía De Financiamiento       3235\n",
              "Finagro                                                     3085\n",
              "RCI Colombia S.A.                                           2999\n",
              "Fondo Nacional del Ahorro                                   2987\n",
              "Coofinep                                                     886\n",
              "Bancoldex                                                    698\n",
              "Credifamilia                                                 405\n",
              "La Hipotecaria                                               134\n",
              "Findeter                                                      95\n",
              "Caja de Vivienda Militar y de Polícia                         81\n",
              "SANTANDER CONSUMER COLOMBIA                                   24\n",
              "BNP Paribas                                                   10\n",
              "Financiera De Desarrollo Nacional S.A.                         7\n",
              "Banco BTG Pactual Colombia                                     4\n",
              "Banco J.P: Morgan Colombia S.A.                                2\n",
              "Name: count, dtype: int64"
            ]
          },
          "execution_count": 19,
          "metadata": {},
          "output_type": "execute_result"
        }
      ],
      "source": [
        "frecuencia_Nombre_Entidad=df['Nombre_Entidad'].value_counts()\n",
        "frecuencia_Nombre_Entidad"
      ]
    },
    {
      "cell_type": "code",
      "execution_count": null,
      "metadata": {
        "id": "sVcP-8vuwI0L",
        "outputId": "f4e2ff43-3d87-4278-ba61-4c4c7feca5a5"
      },
      "outputs": [
        {
          "data": {
            "text/plain": [
              "Tipo_de_garantía\n",
              "Sin garantia                                                                           6037573\n",
              "Garantia idónea o no idónea                                                            1996422\n",
              "Garantía del fondo agropecuario de garantías (FAG)                                       84507\n",
              "Garantía  fondo nacional de garantías (FNG) o Fondo de Garantías de Antioquia (FGA)      73804\n",
              "Name: count, dtype: int64"
            ]
          },
          "execution_count": 21,
          "metadata": {},
          "output_type": "execute_result"
        }
      ],
      "source": [
        "frecuencia_tipo_garantia=df['Tipo_de_garantía'].value_counts()\n",
        "frecuencia_tipo_garantia"
      ]
    },
    {
      "cell_type": "code",
      "execution_count": null,
      "metadata": {
        "id": "RdB0b65lwI0M",
        "outputId": "e145a533-3dd1-4365-b04b-7ca198c532a4"
      },
      "outputs": [
        {
          "data": {
            "text/plain": [
              "Tipo_de_Tasa\n",
              "FS        7916243\n",
              "DTF        115132\n",
              "IB6         74673\n",
              "IB1         32588\n",
              "OTR         29739\n",
              "IBR         11599\n",
              "IB3          8147\n",
              "DTFE         2708\n",
              "VUVR         1122\n",
              "LIB3          121\n",
              "CEC$           76\n",
              "CECUVR         58\n",
              "IBE            48\n",
              "IPC            29\n",
              "-DTF           23\n",
              "Name: count, dtype: int64"
            ]
          },
          "execution_count": 23,
          "metadata": {},
          "output_type": "execute_result"
        }
      ],
      "source": [
        "frecuencia_tipo_de_tasa=df['Tipo_de_Tasa'].value_counts()\n",
        "frecuencia_tipo_de_tasa"
      ]
    },
    {
      "cell_type": "code",
      "execution_count": null,
      "metadata": {
        "id": "4KdAvhehwI0M",
        "outputId": "3f8b0a88-e77c-4d59-ea06-c8ff704075e8"
      },
      "outputs": [
        {
          "data": {
            "text/html": [
              "<div>\n",
              "<style scoped>\n",
              "    .dataframe tbody tr th:only-of-type {\n",
              "        vertical-align: middle;\n",
              "    }\n",
              "\n",
              "    .dataframe tbody tr th {\n",
              "        vertical-align: top;\n",
              "    }\n",
              "\n",
              "    .dataframe thead th {\n",
              "        text-align: right;\n",
              "    }\n",
              "</style>\n",
              "<table border=\"1\" class=\"dataframe\">\n",
              "  <thead>\n",
              "    <tr style=\"text-align: right;\">\n",
              "      <th></th>\n",
              "      <th>Tipo_Entidad</th>\n",
              "      <th>Nombre_Tipo_Entidad</th>\n",
              "      <th>Codigo_Entidad</th>\n",
              "      <th>Nombre_Entidad</th>\n",
              "      <th>Fecha_Corte</th>\n",
              "      <th>Tipo_de_persona</th>\n",
              "      <th>Sexo</th>\n",
              "      <th>Tamaño_de_empresa</th>\n",
              "      <th>Tipo_de_crédito</th>\n",
              "      <th>Tipo_de_garantía</th>\n",
              "      <th>...</th>\n",
              "      <th>margen_adicional</th>\n",
              "      <th>Montos_desembolsados</th>\n",
              "      <th>Numero_de_creditos_desembolsados</th>\n",
              "      <th>Grupo_Etnico</th>\n",
              "      <th>Antiguedad_de_la_empresa</th>\n",
              "      <th>Tipo_de_Tasa</th>\n",
              "      <th>Rango_monto_desembolsado</th>\n",
              "      <th>Clase_deudor</th>\n",
              "      <th>Codigo_CIIU</th>\n",
              "      <th>Codigo_Municipio</th>\n",
              "    </tr>\n",
              "  </thead>\n",
              "  <tbody>\n",
              "    <tr>\n",
              "      <th>0</th>\n",
              "      <td>1</td>\n",
              "      <td>BC-ESTABLECIMIENTO BANCARIO</td>\n",
              "      <td>1</td>\n",
              "      <td>Banco de Bogotá</td>\n",
              "      <td>20/10/2023</td>\n",
              "      <td>Natural</td>\n",
              "      <td>Masculino</td>\n",
              "      <td>No aplica</td>\n",
              "      <td>Consumo</td>\n",
              "      <td>Sin garantia</td>\n",
              "      <td>...</td>\n",
              "      <td>0.0</td>\n",
              "      <td>2197830.00</td>\n",
              "      <td>11</td>\n",
              "      <td>Sin información (1)</td>\n",
              "      <td>No aplica(1)</td>\n",
              "      <td>FS</td>\n",
              "      <td>Hasta 1 SMLMV</td>\n",
              "      <td>Deudor de la entidad</td>\n",
              "      <td>10.0</td>\n",
              "      <td>5172.0</td>\n",
              "    </tr>\n",
              "    <tr>\n",
              "      <th>1</th>\n",
              "      <td>1</td>\n",
              "      <td>BC-ESTABLECIMIENTO BANCARIO</td>\n",
              "      <td>52</td>\n",
              "      <td>Bancamía S.A.</td>\n",
              "      <td>20/10/2023</td>\n",
              "      <td>Natural</td>\n",
              "      <td>Masculino</td>\n",
              "      <td>Microempresa</td>\n",
              "      <td>Crédito productivo</td>\n",
              "      <td>Garantía  fondo nacional de garantías (FNG) o ...</td>\n",
              "      <td>...</td>\n",
              "      <td>0.0</td>\n",
              "      <td>2800000.00</td>\n",
              "      <td>1</td>\n",
              "      <td>Sin información (1)</td>\n",
              "      <td>más de 10 años</td>\n",
              "      <td>FS</td>\n",
              "      <td>Mayor a 2 SMLMV y menor o igual a 3 SMLMV</td>\n",
              "      <td>Deudor de la entidad</td>\n",
              "      <td>143.0</td>\n",
              "      <td>47268.0</td>\n",
              "    </tr>\n",
              "    <tr>\n",
              "      <th>2</th>\n",
              "      <td>1</td>\n",
              "      <td>BC-ESTABLECIMIENTO BANCARIO</td>\n",
              "      <td>43</td>\n",
              "      <td>Banagrario</td>\n",
              "      <td>10/11/2023</td>\n",
              "      <td>Natural</td>\n",
              "      <td>Masculino</td>\n",
              "      <td>No aplica</td>\n",
              "      <td>Consumo</td>\n",
              "      <td>Sin garantia</td>\n",
              "      <td>...</td>\n",
              "      <td>0.0</td>\n",
              "      <td>7969200.00</td>\n",
              "      <td>4</td>\n",
              "      <td>Sin información (1)</td>\n",
              "      <td>No aplica(1)</td>\n",
              "      <td>FS</td>\n",
              "      <td>Mayor a 1 SMLMV menor o igual a 3 SMLMV</td>\n",
              "      <td>Deudor de la entidad</td>\n",
              "      <td>150.0</td>\n",
              "      <td>41676.0</td>\n",
              "    </tr>\n",
              "    <tr>\n",
              "      <th>3</th>\n",
              "      <td>1</td>\n",
              "      <td>BC-ESTABLECIMIENTO BANCARIO</td>\n",
              "      <td>7</td>\n",
              "      <td>Bancolombia</td>\n",
              "      <td>01/12/2023</td>\n",
              "      <td>Jurídica</td>\n",
              "      <td>No aplica</td>\n",
              "      <td>Mediana empresa</td>\n",
              "      <td>Comercial ordinario</td>\n",
              "      <td>Garantia idónea o no idónea</td>\n",
              "      <td>...</td>\n",
              "      <td>0.0</td>\n",
              "      <td>3538866.93</td>\n",
              "      <td>5</td>\n",
              "      <td>No aplica</td>\n",
              "      <td>0 a 5 años</td>\n",
              "      <td>FS</td>\n",
              "      <td>Mayor a 1 SMLMV menor o igual a 3 SMLMV</td>\n",
              "      <td>Deudor de la entidad</td>\n",
              "      <td>8544.0</td>\n",
              "      <td>11001.0</td>\n",
              "    </tr>\n",
              "    <tr>\n",
              "      <th>4</th>\n",
              "      <td>1</td>\n",
              "      <td>BC-ESTABLECIMIENTO BANCARIO</td>\n",
              "      <td>1</td>\n",
              "      <td>Banco de Bogotá</td>\n",
              "      <td>24/11/2023</td>\n",
              "      <td>Natural</td>\n",
              "      <td>Femenino</td>\n",
              "      <td>No aplica</td>\n",
              "      <td>Consumo</td>\n",
              "      <td>Sin garantia</td>\n",
              "      <td>...</td>\n",
              "      <td>0.0</td>\n",
              "      <td>585000.00</td>\n",
              "      <td>1</td>\n",
              "      <td>Sin información (1)</td>\n",
              "      <td>No aplica(1)</td>\n",
              "      <td>FS</td>\n",
              "      <td>Hasta 1 SMLMV</td>\n",
              "      <td>Deudor nuevo en la entidad</td>\n",
              "      <td>4711.0</td>\n",
              "      <td>70823.0</td>\n",
              "    </tr>\n",
              "  </tbody>\n",
              "</table>\n",
              "<p>5 rows × 23 columns</p>\n",
              "</div>"
            ],
            "text/plain": [
              "   Tipo_Entidad          Nombre_Tipo_Entidad  Codigo_Entidad   Nombre_Entidad  \\\n",
              "0             1  BC-ESTABLECIMIENTO BANCARIO               1  Banco de Bogotá   \n",
              "1             1  BC-ESTABLECIMIENTO BANCARIO              52    Bancamía S.A.   \n",
              "2             1  BC-ESTABLECIMIENTO BANCARIO              43       Banagrario   \n",
              "3             1  BC-ESTABLECIMIENTO BANCARIO               7      Bancolombia   \n",
              "4             1  BC-ESTABLECIMIENTO BANCARIO               1  Banco de Bogotá   \n",
              "\n",
              "  Fecha_Corte Tipo_de_persona       Sexo Tamaño_de_empresa  \\\n",
              "0  20/10/2023         Natural  Masculino         No aplica   \n",
              "1  20/10/2023         Natural  Masculino      Microempresa   \n",
              "2  10/11/2023         Natural  Masculino         No aplica   \n",
              "3  01/12/2023        Jurídica  No aplica   Mediana empresa   \n",
              "4  24/11/2023         Natural   Femenino         No aplica   \n",
              "\n",
              "       Tipo_de_crédito                                   Tipo_de_garantía  \\\n",
              "0              Consumo                                       Sin garantia   \n",
              "1   Crédito productivo  Garantía  fondo nacional de garantías (FNG) o ...   \n",
              "2              Consumo                                       Sin garantia   \n",
              "3  Comercial ordinario                        Garantia idónea o no idónea   \n",
              "4              Consumo                                       Sin garantia   \n",
              "\n",
              "   ... margen_adicional Montos_desembolsados  \\\n",
              "0  ...              0.0           2197830.00   \n",
              "1  ...              0.0           2800000.00   \n",
              "2  ...              0.0           7969200.00   \n",
              "3  ...              0.0           3538866.93   \n",
              "4  ...              0.0            585000.00   \n",
              "\n",
              "   Numero_de_creditos_desembolsados         Grupo_Etnico  \\\n",
              "0                                11  Sin información (1)   \n",
              "1                                 1  Sin información (1)   \n",
              "2                                 4  Sin información (1)   \n",
              "3                                 5            No aplica   \n",
              "4                                 1  Sin información (1)   \n",
              "\n",
              "   Antiguedad_de_la_empresa  Tipo_de_Tasa  \\\n",
              "0              No aplica(1)            FS   \n",
              "1            más de 10 años            FS   \n",
              "2              No aplica(1)            FS   \n",
              "3                0 a 5 años            FS   \n",
              "4              No aplica(1)            FS   \n",
              "\n",
              "                    Rango_monto_desembolsado                Clase_deudor  \\\n",
              "0                              Hasta 1 SMLMV        Deudor de la entidad   \n",
              "1  Mayor a 2 SMLMV y menor o igual a 3 SMLMV        Deudor de la entidad   \n",
              "2    Mayor a 1 SMLMV menor o igual a 3 SMLMV        Deudor de la entidad   \n",
              "3    Mayor a 1 SMLMV menor o igual a 3 SMLMV        Deudor de la entidad   \n",
              "4                              Hasta 1 SMLMV  Deudor nuevo en la entidad   \n",
              "\n",
              "  Codigo_CIIU Codigo_Municipio  \n",
              "0        10.0           5172.0  \n",
              "1       143.0          47268.0  \n",
              "2       150.0          41676.0  \n",
              "3      8544.0          11001.0  \n",
              "4      4711.0          70823.0  \n",
              "\n",
              "[5 rows x 23 columns]"
            ]
          },
          "execution_count": 10,
          "metadata": {},
          "output_type": "execute_result"
        }
      ],
      "source": [
        "df.head()"
      ]
    },
    {
      "cell_type": "markdown",
      "metadata": {
        "id": "UViBF3cCwI0Q"
      },
      "source": [
        "observamos que Grupo_Etnico hay varias filas sin informacion, borramos la colunma"
      ]
    },
    {
      "cell_type": "code",
      "execution_count": null,
      "metadata": {
        "id": "1sQEcKZKwI0Q"
      },
      "outputs": [],
      "source": [
        "df = df.drop('Grupo_Etnico', axis=1)"
      ]
    },
    {
      "cell_type": "code",
      "execution_count": null,
      "metadata": {
        "id": "wZJOEQt1wI0R",
        "outputId": "d1367f82-5db5-4b83-ec88-3e9a8644bbc2"
      },
      "outputs": [
        {
          "data": {
            "text/plain": [
              "Antiguedad_de_la_empresa\n",
              "No aplica(1)                7151318\n",
              "más de 10 años               641235\n",
              "más de 5 y hasta 10 años     265271\n",
              "0 a 5 años                   134482\n",
              "Name: count, dtype: int64"
            ]
          },
          "execution_count": 26,
          "metadata": {},
          "output_type": "execute_result"
        }
      ],
      "source": [
        "frecuencia_antiguedad_en_la_empresa=df.Antiguedad_de_la_empresa.value_counts()\n",
        "frecuencia_antiguedad_en_la_empresa"
      ]
    },
    {
      "cell_type": "code",
      "execution_count": null,
      "metadata": {
        "id": "rwLTVIIAwI0S",
        "outputId": "914e67e4-02ab-4cf0-8e78-83fc2006e7bd"
      },
      "outputs": [
        {
          "data": {
            "text/plain": [
              "Tipo_de_persona\n",
              "Natural     7198556\n",
              "Jurídica     993750\n",
              "Name: count, dtype: int64"
            ]
          },
          "execution_count": 28,
          "metadata": {},
          "output_type": "execute_result"
        }
      ],
      "source": [
        "frecuencia_tipo_de_persona=df.Tipo_de_persona.value_counts()\n",
        "frecuencia_tipo_de_persona"
      ]
    },
    {
      "cell_type": "code",
      "execution_count": null,
      "metadata": {
        "id": "6TNfLMSVwI0T",
        "outputId": "b10aaed9-8c21-47b4-fa44-401d63986af4"
      },
      "outputs": [
        {
          "data": {
            "text/html": [
              "<div>\n",
              "<style scoped>\n",
              "    .dataframe tbody tr th:only-of-type {\n",
              "        vertical-align: middle;\n",
              "    }\n",
              "\n",
              "    .dataframe tbody tr th {\n",
              "        vertical-align: top;\n",
              "    }\n",
              "\n",
              "    .dataframe thead th {\n",
              "        text-align: right;\n",
              "    }\n",
              "</style>\n",
              "<table border=\"1\" class=\"dataframe\">\n",
              "  <thead>\n",
              "    <tr style=\"text-align: right;\">\n",
              "      <th></th>\n",
              "      <th>Tipo_Entidad</th>\n",
              "      <th>Nombre_Tipo_Entidad</th>\n",
              "      <th>Codigo_Entidad</th>\n",
              "      <th>Nombre_Entidad</th>\n",
              "      <th>Fecha_Corte</th>\n",
              "      <th>Tipo_de_persona</th>\n",
              "      <th>Sexo</th>\n",
              "      <th>Tamaño_de_empresa</th>\n",
              "      <th>Tipo_de_crédito</th>\n",
              "      <th>Tipo_de_garantía</th>\n",
              "      <th>...</th>\n",
              "      <th>Tasa_efectiva_promedio_ponderada</th>\n",
              "      <th>margen_adicional</th>\n",
              "      <th>Montos_desembolsados</th>\n",
              "      <th>Numero_de_creditos_desembolsados</th>\n",
              "      <th>Antiguedad_de_la_empresa</th>\n",
              "      <th>Tipo_de_Tasa</th>\n",
              "      <th>Rango_monto_desembolsado</th>\n",
              "      <th>Clase_deudor</th>\n",
              "      <th>Codigo_CIIU</th>\n",
              "      <th>Codigo_Municipio</th>\n",
              "    </tr>\n",
              "  </thead>\n",
              "  <tbody>\n",
              "    <tr>\n",
              "      <th>0</th>\n",
              "      <td>1</td>\n",
              "      <td>BC-ESTABLECIMIENTO BANCARIO</td>\n",
              "      <td>1</td>\n",
              "      <td>Banco de Bogotá</td>\n",
              "      <td>20/10/2023</td>\n",
              "      <td>Natural</td>\n",
              "      <td>Masculino</td>\n",
              "      <td>No aplica</td>\n",
              "      <td>Consumo</td>\n",
              "      <td>Sin garantia</td>\n",
              "      <td>...</td>\n",
              "      <td>39.77</td>\n",
              "      <td>0.0</td>\n",
              "      <td>2197830.00</td>\n",
              "      <td>11</td>\n",
              "      <td>No aplica(1)</td>\n",
              "      <td>FS</td>\n",
              "      <td>Hasta 1 SMLMV</td>\n",
              "      <td>Deudor de la entidad</td>\n",
              "      <td>10.0</td>\n",
              "      <td>5172.0</td>\n",
              "    </tr>\n",
              "    <tr>\n",
              "      <th>1</th>\n",
              "      <td>1</td>\n",
              "      <td>BC-ESTABLECIMIENTO BANCARIO</td>\n",
              "      <td>52</td>\n",
              "      <td>Bancamía S.A.</td>\n",
              "      <td>20/10/2023</td>\n",
              "      <td>Natural</td>\n",
              "      <td>Masculino</td>\n",
              "      <td>Microempresa</td>\n",
              "      <td>Crédito productivo</td>\n",
              "      <td>Garantía  fondo nacional de garantías (FNG) o ...</td>\n",
              "      <td>...</td>\n",
              "      <td>52.39</td>\n",
              "      <td>0.0</td>\n",
              "      <td>2800000.00</td>\n",
              "      <td>1</td>\n",
              "      <td>más de 10 años</td>\n",
              "      <td>FS</td>\n",
              "      <td>Mayor a 2 SMLMV y menor o igual a 3 SMLMV</td>\n",
              "      <td>Deudor de la entidad</td>\n",
              "      <td>143.0</td>\n",
              "      <td>47268.0</td>\n",
              "    </tr>\n",
              "    <tr>\n",
              "      <th>2</th>\n",
              "      <td>1</td>\n",
              "      <td>BC-ESTABLECIMIENTO BANCARIO</td>\n",
              "      <td>43</td>\n",
              "      <td>Banagrario</td>\n",
              "      <td>10/11/2023</td>\n",
              "      <td>Natural</td>\n",
              "      <td>Masculino</td>\n",
              "      <td>No aplica</td>\n",
              "      <td>Consumo</td>\n",
              "      <td>Sin garantia</td>\n",
              "      <td>...</td>\n",
              "      <td>0.00</td>\n",
              "      <td>0.0</td>\n",
              "      <td>7969200.00</td>\n",
              "      <td>4</td>\n",
              "      <td>No aplica(1)</td>\n",
              "      <td>FS</td>\n",
              "      <td>Mayor a 1 SMLMV menor o igual a 3 SMLMV</td>\n",
              "      <td>Deudor de la entidad</td>\n",
              "      <td>150.0</td>\n",
              "      <td>41676.0</td>\n",
              "    </tr>\n",
              "    <tr>\n",
              "      <th>3</th>\n",
              "      <td>1</td>\n",
              "      <td>BC-ESTABLECIMIENTO BANCARIO</td>\n",
              "      <td>7</td>\n",
              "      <td>Bancolombia</td>\n",
              "      <td>01/12/2023</td>\n",
              "      <td>Jurídica</td>\n",
              "      <td>No aplica</td>\n",
              "      <td>Mediana empresa</td>\n",
              "      <td>Comercial ordinario</td>\n",
              "      <td>Garantia idónea o no idónea</td>\n",
              "      <td>...</td>\n",
              "      <td>38.21</td>\n",
              "      <td>0.0</td>\n",
              "      <td>3538866.93</td>\n",
              "      <td>5</td>\n",
              "      <td>0 a 5 años</td>\n",
              "      <td>FS</td>\n",
              "      <td>Mayor a 1 SMLMV menor o igual a 3 SMLMV</td>\n",
              "      <td>Deudor de la entidad</td>\n",
              "      <td>8544.0</td>\n",
              "      <td>11001.0</td>\n",
              "    </tr>\n",
              "    <tr>\n",
              "      <th>4</th>\n",
              "      <td>1</td>\n",
              "      <td>BC-ESTABLECIMIENTO BANCARIO</td>\n",
              "      <td>1</td>\n",
              "      <td>Banco de Bogotá</td>\n",
              "      <td>24/11/2023</td>\n",
              "      <td>Natural</td>\n",
              "      <td>Femenino</td>\n",
              "      <td>No aplica</td>\n",
              "      <td>Consumo</td>\n",
              "      <td>Sin garantia</td>\n",
              "      <td>...</td>\n",
              "      <td>38.25</td>\n",
              "      <td>0.0</td>\n",
              "      <td>585000.00</td>\n",
              "      <td>1</td>\n",
              "      <td>No aplica(1)</td>\n",
              "      <td>FS</td>\n",
              "      <td>Hasta 1 SMLMV</td>\n",
              "      <td>Deudor nuevo en la entidad</td>\n",
              "      <td>4711.0</td>\n",
              "      <td>70823.0</td>\n",
              "    </tr>\n",
              "  </tbody>\n",
              "</table>\n",
              "<p>5 rows × 22 columns</p>\n",
              "</div>"
            ],
            "text/plain": [
              "   Tipo_Entidad          Nombre_Tipo_Entidad  Codigo_Entidad   Nombre_Entidad  \\\n",
              "0             1  BC-ESTABLECIMIENTO BANCARIO               1  Banco de Bogotá   \n",
              "1             1  BC-ESTABLECIMIENTO BANCARIO              52    Bancamía S.A.   \n",
              "2             1  BC-ESTABLECIMIENTO BANCARIO              43       Banagrario   \n",
              "3             1  BC-ESTABLECIMIENTO BANCARIO               7      Bancolombia   \n",
              "4             1  BC-ESTABLECIMIENTO BANCARIO               1  Banco de Bogotá   \n",
              "\n",
              "  Fecha_Corte Tipo_de_persona       Sexo Tamaño_de_empresa  \\\n",
              "0  20/10/2023         Natural  Masculino         No aplica   \n",
              "1  20/10/2023         Natural  Masculino      Microempresa   \n",
              "2  10/11/2023         Natural  Masculino         No aplica   \n",
              "3  01/12/2023        Jurídica  No aplica   Mediana empresa   \n",
              "4  24/11/2023         Natural   Femenino         No aplica   \n",
              "\n",
              "       Tipo_de_crédito                                   Tipo_de_garantía  \\\n",
              "0              Consumo                                       Sin garantia   \n",
              "1   Crédito productivo  Garantía  fondo nacional de garantías (FNG) o ...   \n",
              "2              Consumo                                       Sin garantia   \n",
              "3  Comercial ordinario                        Garantia idónea o no idónea   \n",
              "4              Consumo                                       Sin garantia   \n",
              "\n",
              "   ... Tasa_efectiva_promedio_ponderada margen_adicional  \\\n",
              "0  ...                            39.77              0.0   \n",
              "1  ...                            52.39              0.0   \n",
              "2  ...                             0.00              0.0   \n",
              "3  ...                            38.21              0.0   \n",
              "4  ...                            38.25              0.0   \n",
              "\n",
              "   Montos_desembolsados  Numero_de_creditos_desembolsados  \\\n",
              "0            2197830.00                                11   \n",
              "1            2800000.00                                 1   \n",
              "2            7969200.00                                 4   \n",
              "3            3538866.93                                 5   \n",
              "4             585000.00                                 1   \n",
              "\n",
              "   Antiguedad_de_la_empresa  Tipo_de_Tasa  \\\n",
              "0              No aplica(1)            FS   \n",
              "1            más de 10 años            FS   \n",
              "2              No aplica(1)            FS   \n",
              "3                0 a 5 años            FS   \n",
              "4              No aplica(1)            FS   \n",
              "\n",
              "                    Rango_monto_desembolsado                Clase_deudor  \\\n",
              "0                              Hasta 1 SMLMV        Deudor de la entidad   \n",
              "1  Mayor a 2 SMLMV y menor o igual a 3 SMLMV        Deudor de la entidad   \n",
              "2    Mayor a 1 SMLMV menor o igual a 3 SMLMV        Deudor de la entidad   \n",
              "3    Mayor a 1 SMLMV menor o igual a 3 SMLMV        Deudor de la entidad   \n",
              "4                              Hasta 1 SMLMV  Deudor nuevo en la entidad   \n",
              "\n",
              "  Codigo_CIIU Codigo_Municipio  \n",
              "0        10.0           5172.0  \n",
              "1       143.0          47268.0  \n",
              "2       150.0          41676.0  \n",
              "3      8544.0          11001.0  \n",
              "4      4711.0          70823.0  \n",
              "\n",
              "[5 rows x 22 columns]"
            ]
          },
          "execution_count": 13,
          "metadata": {},
          "output_type": "execute_result"
        }
      ],
      "source": [
        "df.head()"
      ]
    },
    {
      "cell_type": "code",
      "execution_count": null,
      "metadata": {
        "id": "9F9EFQBvwI0U"
      },
      "outputs": [],
      "source": [
        "# filtrar el banco bancolombia\n",
        "df_Bancolombia = df[df['Nombre_Entidad'] == 'Bancolombia']"
      ]
    },
    {
      "cell_type": "code",
      "execution_count": null,
      "metadata": {
        "id": "7LfqVUvLwI0U",
        "outputId": "75763306-723e-45ad-a8f7-8a3fea4273e3"
      },
      "outputs": [
        {
          "data": {
            "text/html": [
              "<div>\n",
              "<style scoped>\n",
              "    .dataframe tbody tr th:only-of-type {\n",
              "        vertical-align: middle;\n",
              "    }\n",
              "\n",
              "    .dataframe tbody tr th {\n",
              "        vertical-align: top;\n",
              "    }\n",
              "\n",
              "    .dataframe thead th {\n",
              "        text-align: right;\n",
              "    }\n",
              "</style>\n",
              "<table border=\"1\" class=\"dataframe\">\n",
              "  <thead>\n",
              "    <tr style=\"text-align: right;\">\n",
              "      <th></th>\n",
              "      <th>Tipo_Entidad</th>\n",
              "      <th>Nombre_Tipo_Entidad</th>\n",
              "      <th>Codigo_Entidad</th>\n",
              "      <th>Nombre_Entidad</th>\n",
              "      <th>Fecha_Corte</th>\n",
              "      <th>Tipo_de_persona</th>\n",
              "      <th>Sexo</th>\n",
              "      <th>Tamaño_de_empresa</th>\n",
              "      <th>Tipo_de_crédito</th>\n",
              "      <th>Tipo_de_garantía</th>\n",
              "      <th>...</th>\n",
              "      <th>Tasa_efectiva_promedio_ponderada</th>\n",
              "      <th>margen_adicional</th>\n",
              "      <th>Montos_desembolsados</th>\n",
              "      <th>Numero_de_creditos_desembolsados</th>\n",
              "      <th>Antiguedad_de_la_empresa</th>\n",
              "      <th>Tipo_de_Tasa</th>\n",
              "      <th>Rango_monto_desembolsado</th>\n",
              "      <th>Clase_deudor</th>\n",
              "      <th>Codigo_CIIU</th>\n",
              "      <th>Codigo_Municipio</th>\n",
              "    </tr>\n",
              "  </thead>\n",
              "  <tbody>\n",
              "    <tr>\n",
              "      <th>3</th>\n",
              "      <td>1</td>\n",
              "      <td>BC-ESTABLECIMIENTO BANCARIO</td>\n",
              "      <td>7</td>\n",
              "      <td>Bancolombia</td>\n",
              "      <td>01/12/2023</td>\n",
              "      <td>Jurídica</td>\n",
              "      <td>No aplica</td>\n",
              "      <td>Mediana empresa</td>\n",
              "      <td>Comercial ordinario</td>\n",
              "      <td>Garantia idónea o no idónea</td>\n",
              "      <td>...</td>\n",
              "      <td>38.21</td>\n",
              "      <td>0.0</td>\n",
              "      <td>3538866.93</td>\n",
              "      <td>5</td>\n",
              "      <td>0 a 5 años</td>\n",
              "      <td>FS</td>\n",
              "      <td>Mayor a 1 SMLMV menor o igual a 3 SMLMV</td>\n",
              "      <td>Deudor de la entidad</td>\n",
              "      <td>8544.0</td>\n",
              "      <td>11001.0</td>\n",
              "    </tr>\n",
              "    <tr>\n",
              "      <th>5</th>\n",
              "      <td>1</td>\n",
              "      <td>BC-ESTABLECIMIENTO BANCARIO</td>\n",
              "      <td>7</td>\n",
              "      <td>Bancolombia</td>\n",
              "      <td>20/10/2023</td>\n",
              "      <td>Natural</td>\n",
              "      <td>Femenino</td>\n",
              "      <td>No aplica</td>\n",
              "      <td>Consumo</td>\n",
              "      <td>Garantia idónea o no idónea</td>\n",
              "      <td>...</td>\n",
              "      <td>39.79</td>\n",
              "      <td>0.0</td>\n",
              "      <td>480291.09</td>\n",
              "      <td>2</td>\n",
              "      <td>No aplica(1)</td>\n",
              "      <td>FS</td>\n",
              "      <td>Hasta 1 SMLMV</td>\n",
              "      <td>Deudor de la entidad</td>\n",
              "      <td>8622.0</td>\n",
              "      <td>5154.0</td>\n",
              "    </tr>\n",
              "    <tr>\n",
              "      <th>9</th>\n",
              "      <td>1</td>\n",
              "      <td>BC-ESTABLECIMIENTO BANCARIO</td>\n",
              "      <td>7</td>\n",
              "      <td>Bancolombia</td>\n",
              "      <td>01/12/2023</td>\n",
              "      <td>Natural</td>\n",
              "      <td>Femenino</td>\n",
              "      <td>No aplica</td>\n",
              "      <td>Consumo</td>\n",
              "      <td>Sin garantia</td>\n",
              "      <td>...</td>\n",
              "      <td>38.21</td>\n",
              "      <td>0.0</td>\n",
              "      <td>353840.00</td>\n",
              "      <td>1</td>\n",
              "      <td>No aplica(1)</td>\n",
              "      <td>FS</td>\n",
              "      <td>Hasta 1 SMLMV</td>\n",
              "      <td>Deudor de la entidad</td>\n",
              "      <td>5613.0</td>\n",
              "      <td>17001.0</td>\n",
              "    </tr>\n",
              "    <tr>\n",
              "      <th>12</th>\n",
              "      <td>1</td>\n",
              "      <td>BC-ESTABLECIMIENTO BANCARIO</td>\n",
              "      <td>7</td>\n",
              "      <td>Bancolombia</td>\n",
              "      <td>29/09/2023</td>\n",
              "      <td>Natural</td>\n",
              "      <td>Masculino</td>\n",
              "      <td>No aplica</td>\n",
              "      <td>Consumo</td>\n",
              "      <td>Sin garantia</td>\n",
              "      <td>...</td>\n",
              "      <td>0.00</td>\n",
              "      <td>0.0</td>\n",
              "      <td>14806418.00</td>\n",
              "      <td>29</td>\n",
              "      <td>No aplica(1)</td>\n",
              "      <td>FS</td>\n",
              "      <td>Mayor a 1 SMLMV menor o igual a 3 SMLMV</td>\n",
              "      <td>Deudor de la entidad</td>\n",
              "      <td>90.0</td>\n",
              "      <td>5266.0</td>\n",
              "    </tr>\n",
              "    <tr>\n",
              "      <th>21</th>\n",
              "      <td>1</td>\n",
              "      <td>BC-ESTABLECIMIENTO BANCARIO</td>\n",
              "      <td>7</td>\n",
              "      <td>Bancolombia</td>\n",
              "      <td>24/11/2023</td>\n",
              "      <td>Jurídica</td>\n",
              "      <td>No aplica</td>\n",
              "      <td>Mediana empresa</td>\n",
              "      <td>Comercial ordinario</td>\n",
              "      <td>Garantia idónea o no idónea</td>\n",
              "      <td>...</td>\n",
              "      <td>38.26</td>\n",
              "      <td>0.0</td>\n",
              "      <td>76230556.86</td>\n",
              "      <td>10</td>\n",
              "      <td>más de 10 años</td>\n",
              "      <td>FS</td>\n",
              "      <td>Mayor a 12 SMLMV y menor o igual a 25 SMLMV</td>\n",
              "      <td>Deudor de la entidad</td>\n",
              "      <td>8010.0</td>\n",
              "      <td>11001.0</td>\n",
              "    </tr>\n",
              "  </tbody>\n",
              "</table>\n",
              "<p>5 rows × 22 columns</p>\n",
              "</div>"
            ],
            "text/plain": [
              "    Tipo_Entidad          Nombre_Tipo_Entidad  Codigo_Entidad Nombre_Entidad  \\\n",
              "3              1  BC-ESTABLECIMIENTO BANCARIO               7    Bancolombia   \n",
              "5              1  BC-ESTABLECIMIENTO BANCARIO               7    Bancolombia   \n",
              "9              1  BC-ESTABLECIMIENTO BANCARIO               7    Bancolombia   \n",
              "12             1  BC-ESTABLECIMIENTO BANCARIO               7    Bancolombia   \n",
              "21             1  BC-ESTABLECIMIENTO BANCARIO               7    Bancolombia   \n",
              "\n",
              "   Fecha_Corte Tipo_de_persona       Sexo Tamaño_de_empresa  \\\n",
              "3   01/12/2023        Jurídica  No aplica   Mediana empresa   \n",
              "5   20/10/2023         Natural   Femenino         No aplica   \n",
              "9   01/12/2023         Natural   Femenino         No aplica   \n",
              "12  29/09/2023         Natural  Masculino         No aplica   \n",
              "21  24/11/2023        Jurídica  No aplica   Mediana empresa   \n",
              "\n",
              "        Tipo_de_crédito             Tipo_de_garantía  ...  \\\n",
              "3   Comercial ordinario  Garantia idónea o no idónea  ...   \n",
              "5               Consumo  Garantia idónea o no idónea  ...   \n",
              "9               Consumo                 Sin garantia  ...   \n",
              "12              Consumo                 Sin garantia  ...   \n",
              "21  Comercial ordinario  Garantia idónea o no idónea  ...   \n",
              "\n",
              "   Tasa_efectiva_promedio_ponderada margen_adicional  Montos_desembolsados  \\\n",
              "3                             38.21              0.0            3538866.93   \n",
              "5                             39.79              0.0             480291.09   \n",
              "9                             38.21              0.0             353840.00   \n",
              "12                             0.00              0.0           14806418.00   \n",
              "21                            38.26              0.0           76230556.86   \n",
              "\n",
              "    Numero_de_creditos_desembolsados  Antiguedad_de_la_empresa  Tipo_de_Tasa  \\\n",
              "3                                  5                0 a 5 años            FS   \n",
              "5                                  2              No aplica(1)            FS   \n",
              "9                                  1              No aplica(1)            FS   \n",
              "12                                29              No aplica(1)            FS   \n",
              "21                                10            más de 10 años            FS   \n",
              "\n",
              "                       Rango_monto_desembolsado          Clase_deudor  \\\n",
              "3       Mayor a 1 SMLMV menor o igual a 3 SMLMV  Deudor de la entidad   \n",
              "5                                 Hasta 1 SMLMV  Deudor de la entidad   \n",
              "9                                 Hasta 1 SMLMV  Deudor de la entidad   \n",
              "12      Mayor a 1 SMLMV menor o igual a 3 SMLMV  Deudor de la entidad   \n",
              "21  Mayor a 12 SMLMV y menor o igual a 25 SMLMV  Deudor de la entidad   \n",
              "\n",
              "   Codigo_CIIU Codigo_Municipio  \n",
              "3       8544.0          11001.0  \n",
              "5       8622.0           5154.0  \n",
              "9       5613.0          17001.0  \n",
              "12        90.0           5266.0  \n",
              "21      8010.0          11001.0  \n",
              "\n",
              "[5 rows x 22 columns]"
            ]
          },
          "execution_count": 15,
          "metadata": {},
          "output_type": "execute_result"
        }
      ],
      "source": [
        "df_Bancolombia.head()"
      ]
    },
    {
      "cell_type": "code",
      "execution_count": null,
      "metadata": {
        "id": "On4vuBvnwI0V",
        "outputId": "8d92bba4-f084-4fba-ec44-e8f3c4bd504a"
      },
      "outputs": [
        {
          "data": {
            "text/plain": [
              "(2089653, 22)"
            ]
          },
          "execution_count": 20,
          "metadata": {},
          "output_type": "execute_result"
        }
      ],
      "source": [
        "#vemos la dimension\n",
        "df_Bancolombia.shape"
      ]
    },
    {
      "cell_type": "code",
      "execution_count": null,
      "metadata": {
        "id": "T14NIFxPwI0W",
        "outputId": "a6f043d9-1aef-4e35-96f3-9da5665e51aa"
      },
      "outputs": [
        {
          "name": "stdout",
          "output_type": "stream",
          "text": [
            "Tamaño del DataFrame en memoria: 2574512913.00 MB\n"
          ]
        }
      ],
      "source": [
        "# tamaño de df_Bancolombia\n",
        "tamano_en_memoria = df_Bancolombia.memory_usage(deep=True).sum()  # Convertir a kilobytes (KB)\n",
        "\n",
        "# Imprimir el tamaño en memoria\n",
        "print(f\"Tamaño del DataFrame en memoria: {tamano_en_memoria:.2f} MB\")"
      ]
    },
    {
      "cell_type": "code",
      "execution_count": null,
      "metadata": {
        "id": "zrGP3fI-wI0X"
      },
      "outputs": [],
      "source": [
        "# Exporta el DataFrame a un archivo CSV\n",
        "df_Bancolombia.to_csv('datos_Bancolombia.csv', index=False)"
      ]
    }
  ],
  "metadata": {
    "kernelspec": {
      "display_name": "base",
      "language": "python",
      "name": "python3"
    },
    "language_info": {
      "codemirror_mode": {
        "name": "ipython",
        "version": 3
      },
      "file_extension": ".py",
      "mimetype": "text/x-python",
      "name": "python",
      "nbconvert_exporter": "python",
      "pygments_lexer": "ipython3",
      "version": "3.11.5"
    },
    "colab": {
      "provenance": []
    }
  },
  "nbformat": 4,
  "nbformat_minor": 0
}